{
 "cells": [
  {
   "cell_type": "markdown",
   "metadata": {
    "slideshow": {
     "slide_type": "slide"
    }
   },
   "source": [
    "## Security POC"
   ]
  },
  {
   "cell_type": "markdown",
   "metadata": {
    "slideshow": {
     "slide_type": "subslide"
    }
   },
   "source": [
    "#### Executive Summary\n",
    "\n",
    "Recent advances in Machine Learning technology are starting to be integrated into mainstream software tools.  One example is security software, where a recent IDC vendor comparison report says:\n",
    "\n",
    ">\"Some security vendors were excluded from this analysis because IDC considered the endpoint STAP product incomplete or lacking full integration into the overall offering for signatureless defense, security incident response, and remediation tools. For example, some products **lacked advanced machine learning–based threat detection** at the time of this analysis.\" (emphasis added) - https://www.idc.com/getdoc.jsp?containerId=US42385717\n",
    "\n",
    "In addition to specialized security software, Machine Learning is starting to be incorporated in more generic data analysis software, like the [Elastic Stack](https://www.elastic.co/guide/en/elastic-stack/current/) commonly used for software application log data collection, storage, and analysis.  This provides a \"force multiplier\" for IT staff to identify unusual or unexpected conditions that include operational and security issues as manifested in application logs.\n",
    "\n",
    "These new Machine Learning techniques automatically and adaptively determine the \"normal\" behavior of systems, so \"anomalous\" events can be identified in near real-time (minutes) and trigger alerting for review by qualified staff, with enough context to guide them quickly to judge whether further investigation and remediation is required.\n",
    "\n",
    "A Proof Of Concept undertaken by HMH Labs demonstrates that while Machine Learning implementations for log analysis are still \"immature\" in that they require a fair amount of configuration effort to give maximal value, even non-Data Analysis specialists can quickly put together systems to uncover hidden value in application log data already being collected.\n",
    "\n",
    "Machine Learning will not eliminate the need for human judgment anytime soon, but it does enable delivery of pertinent information that make people more effective by doing the things computers are good at, like sifting through large amounts of data.  Everyone is familiar with the problem of 'information overload' and Machine Learning provides one powerful tool that will enable 'lean' organizations."
   ]
  },
  {
   "cell_type": "markdown",
   "metadata": {
    "slideshow": {
     "slide_type": "slide"
    }
   },
   "source": [
    "#### Machine Learning\n",
    "\n",
    "* software designed to improve its operation over time, usually through refinement of a statistical model.\n",
    "\n",
    "##### Use cases\n",
    "\n",
    "* finance\n",
    "\n",
    "* market data analysis\n",
    "\n",
    "* image recognition\n",
    "\n",
    "* natural language processing, including machine translation\n",
    "\n",
    "* security, particularly threat detection\n",
    "\n",
    "##### Security POC use case\n",
    "\n",
    "* analyze HMH application logs for evidence of SQL injection attacks\n",
    "\n",
    "* alerting Security personnel, with contextual information to allow quick assesment and detailed investigation.\n"
   ]
  },
  {
   "cell_type": "markdown",
   "metadata": {
    "slideshow": {
     "slide_type": "slide"
    }
   },
   "source": [
    "##### Last path length ML job\n",
    "\n",
    "The hard part of Machine Learning, like many other areas, is figuring out what questions to ask.  Data features pertinent to the problem need identification and metrics developed to allow them to be analyzed.\n",
    "\n",
    "One of the most obvious things about SQL injection attacks is that they typically involve tacking various SQL syntax onto URLs.  Apart from trying to recognize that this SQL syntax is unusual, a simple test of the length of the last component, for example the '5699' in '/api/carts/5699', might be enough to distinguish them.  The longest path component of normal Huan API calls is 'forgot_password_notification', 28 characters.  A sample SQL injection test can look like:\n",
    "```\n",
    "  /api/carts/5699%27riMfJs%3C%27%22%3EfQzUJf%29%20AND%205971%3D3322%20AND%20%281102%3D1102\n",
    "```\n",
    "\n",
    "Minor additions were made to the log transformation scripts to calculate the length of the last path component.\n",
    "\n",
    "Centralized Logging ML jobs \"last_path_length\" and \"sql_injection_detection2\" were created to test this theory.  The first is a \"single metric\" job just tracking max(last_path_length) and the second a \"multi-metric\" job that adds detection of anomalous mean(status) that indicates high rates of HTTP errors.  These jobs do not filter by environment, production or integration, but [sql_injection_detection2](json:redacted) sets the environment as a \"partition field\", which helps interpretation of the source of anomalies.\n",
    "\n",
    "\n"
   ]
  },
  {
   "cell_type": "markdown",
   "metadata": {
    "slideshow": {
     "slide_type": "slide"
    }
   },
   "source": [
    "  ML job last_path_length training phase\n",
    "![ML job last_path_length training phase](last_path_length_training.png)\n"
   ]
  },
  {
   "cell_type": "markdown",
   "metadata": {
    "slideshow": {
     "slide_type": "slide"
    }
   },
   "source": [
    "ML job sql_injection_detection2 anomaly from sending [fake log records](json:redacted) to Huan INT\n",
    "\n",
    "![sql_injection_detection2 anomaly from sending fake log records to Huan INT](sql_injection_detection2a.png)\n",
    "![sql_injection_detection2 anomaly from sending fake log records to Huan INT](sql_injection_detection2b.png)\n",
    "\n",
    "The path \"influencers\" reported in the lower right of the second screen shot are the attempted SQL injections."
   ]
  },
  {
   "cell_type": "markdown",
   "metadata": {
    "slideshow": {
     "slide_type": "slide"
    }
   },
   "source": [
    "#### Alerting\n",
    "\n",
    "Elastic Watcher allows periodic checking of indices and alerting when given conditions are met.\n",
    "The .ml-anomaly* indices, in particular '.ml-anomaly-shared', can be queried like any other data in ElasticSearch.\n",
    "ML jobs default to putting results there, but can be assigned an individual index.\n",
    "\n",
    "Watch alert integration exists for lots of services, in particular Slack and PagerDuty.  Unfortunately, they require account configuration in config/elasticsearch.yml and configuration reload is not supported, so elasticsearch needs restarting."
   ]
  },
  {
   "cell_type": "markdown",
   "metadata": {
    "slideshow": {
     "slide_type": "slide"
    }
   },
   "source": [
    "PagerDuty alert triggered by Elastic Watcher on ML job\n",
    "![PagerDuty alert triggered by Elastic Watcher on ML job](PagerDuty_ML_alert_Screen_Shot.png)"
   ]
  },
  {
   "cell_type": "markdown",
   "metadata": {
    "collapsed": true,
    "slideshow": {
     "slide_type": "notes"
    }
   },
   "source": [
    "## Appendix\n",
    "\n",
    "### Log analysis demo system\n",
    "\n",
    "Labs [\"Centralized Logging ML\" Kibana](redacted)\n",
    "\n",
    "This is primarily logs from:\n",
    "\n",
    "* [Secret Fire](redacted)\n",
    "\n",
    "* [Nauglamir](redacted)\n",
    "\n",
    "* [Thorondor](redacted)\n",
    "\n",
    "* [Huan](redacted)\n",
    "\n",
    "The API of the Marketplace back-end system, Huan, was used as a test system.  The actual Marketplace system is not suceptible to SQL injection, but the POC detects attempts against this API.  Rather than running \"real\" attacks, they are simulated by modifying real log records to match what standard SQL injection tests against this API produce, then sending these records to Elasticsearch directly.\n",
    "\n",
    "[ML ELK Stack configuration](redacted)\n",
    "\n",
    "[Test single metric ML job](redacted)\n",
    "\n",
    "[Sample log message for SQL error](redacted)\n",
    "\n",
    "##### SQL Injection\n",
    "\n",
    "[Sample ML job configuration for SQL insert of admin users](sql_insert_admin.json)\n",
    "\n",
    "[Automated Audit using SQLMap](https://www.owasp.org/index.php/Automated_Audit_using_SQLMap)\n",
    "\n",
    "sample URI paths generated by sqlmap --technique=B\n",
    "\n",
    "  * '/api/products/1\n",
    "  \n",
    "  * '/api/products/1\n",
    "  \n",
    "  * '/api/products/4987\n",
    "  \n",
    "  * '/api/products/1295\n",
    "  \n",
    "  * '/api/products/1%22%28%2C%2C%2C%2C..%2C%27\n",
    "  \n",
    "  * '/api/products/1%27riMfJs%3C%27%22%3EfQzUJf\n",
    "  \n",
    "  * '/api/products/1%29%20AND%205971%3D3322%20AND%20%281102%3D1102\n",
    "  \n",
    "  * '/api/products/1%29%20AND%204176%3D4176%20AND%20%281877%3D1877\n",
    "  \n",
    "  * '/api/products/1%20AND%203781%3D4876\n",
    "  \n",
    "  * '/api/products/1%20AND%204176%3D4176\n",
    "  \n",
    "  * '/api/products/1%27%29%20AND%207104%3D6594%20AND%20%28%27NKSa%27%3D%27NKSa\n",
    "  \n",
    "  * '/api/products/1%27%29%20AND%204176%3D4176%20AND%20%28%27VdqZ%27%3D%27VdqZ\n",
    "  \n",
    "  * '/api/products/1%27%20AND%207019%3D9045%20AND%20%27oLjV%27%3D%27oLjV\n",
    "  \n",
    "  * '/api/products/1%27%20AND%204176%3D4176%20AND%20%27ZvNO%27%3D%27ZvNO\n",
    "  \n",
    "  * '/api/products/1%25%27%20AND%205973%3D3153%20AND%20%27%25%27%3D%27\n",
    "  \n",
    "  * '/api/products/1%25%27%20AND%204176%3D4176%20AND%20%27%25%27%3D%27\n",
    "  \n",
    "  * '/api/products/1%20AND%202284%3D1303--%20qEMV\n",
    "  \n",
    "  * '/api/products/1%20AND%204176%3D4176--%20jHdc\n",
    "  \n",
    "*[URI]: Uniform Resource Identifier"
   ]
  }
 ],
 "metadata": {
  "celltoolbar": "Slideshow",
  "kernelspec": {
   "display_name": "Python 3",
   "language": "python",
   "name": "python3"
  },
  "language_info": {
   "codemirror_mode": {
    "name": "ipython",
    "version": 3
   },
   "file_extension": ".py",
   "mimetype": "text/x-python",
   "name": "python",
   "nbconvert_exporter": "python",
   "pygments_lexer": "ipython3",
   "version": "3.6.0"
  }
 },
 "nbformat": 4,
 "nbformat_minor": 2
}
